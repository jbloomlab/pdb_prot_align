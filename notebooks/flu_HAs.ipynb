{
 "cells": [
  {
   "cell_type": "markdown",
   "metadata": {},
   "source": [
    "# Influenza HAs (H3, H4, H14 subtypes)\n",
    "\n",
    "In this example, we align a small set of influenza hemagglutinins (HAs): one each from the H3, H4, and H14 subtype.\n",
    "\n",
    "The **un-aligned** set of HAs are in [input_files/HA_H3_H4_H14.fa](input_files/HA_H3_H4_H14.fa):"
   ]
  },
  {
   "cell_type": "code",
   "execution_count": 1,
   "metadata": {},
   "outputs": [
    {
     "name": "stdout",
     "output_type": "stream",
     "text": [
      ">cds:CAA29337 A/England/321/1977 1977// HA\n",
      "MKTIIALSYIFCQVLAQNLPGNDNSTATLCLAHHAVPNGTLVKTITNDQIEVTNATELVQSSSTGRICDSPHRILDGKNCTLIDALLGDPHCDGFQNEKWDLFVERSKAFSNCYPYDVPDYASLRSLVASSGTLEFINEGFNWTGVTQNGGSYACKRGPDNSFFSRLNWLYKSESTYPVLNVTMPNNDNFDKLYIWGVHHPSTDKEQTKLYVQASGRVTVSTKRSQQTIIPNVGSRPWVRGLSSRISIYWTIVKPGDILLINSNGNLIAPRGYFKIRTGKSSIMRSDAPIGTCSSECITPNGSIPNDKPFQNVNKITYGACPKYVKQNTLKLATGMRNVPEKQTRGIFGAIAGFIENGWEGMIDGWYGFRHQNSEGTGQAADLKSTQAAIDQINGKLNRVIEKTNEKFHQIEKEFSEVEGRIQDLEKYVEDTKIDLWSYNAELLVALENQHTIDLTDSEMNKLFEKTRRQLRENAEDMGNGCFKIYHKCDNACIGSIRNGTYDHDVYRDEALNNRFQIKGVELKSGYKDWILWISFAISCFLLCVVLLGFIMWACQKGNIRCNICI\n",
      ">cds:BAA14332 A/duck/Czechoslovakia/1956 1956// HA\n",
      "MLSIVILFLLIAENSSQNYTGNPVICMGHHAVANGTMVKTLADDQVEVVTAQELVESQNLPELCPSPLRLVDGQTCDIINGALGSPGCDHLNGAEWDVFIERPNAVDTCYPFDVPEYQSLRSILANNGKFEFIAEEFQWNTVKQNGKSGACKRANVDDFFNRLNWLVKSDGNAYPLQNLTKINNGDYARLYIWGVHHPSTSTEQTNLYKNNPGRVTVSTKTSQTSVVPDIGSRPLVRGQSGRVSFYWTIVEPGDLIVFNTIGNLIAPRGHYKLNNQKKSTILNTAIPIGSCVSKCHTDKGSLSTTKPFQNISRIAVGDCPRYVKQGSLKLATGMRNIPEKASRGLFGAIAGFIENGWQGLIDGWYGFRHQNAEGTGTAADLKSTQAAIDQINGKLNRLIEKTNDKYHQIEKEFEQVEGRIQDLENYVEDTKIDLWSYNAELLVALENQHTIDVTDSEMNKLFERVRRQLRENAEDKGNGCFEIFHKCDNNCIESIRNGTYDHDIYRDEAINNRFQIQGVKLTQGYKDIILWISFSISCFLLVALLLAFILWACQNGNIRCQICI\n",
      ">cds:ABI84453 A/mallard/Astrakhan/263/1982 1982// HA\n",
      "MIALILVALALSHTAYSQITNGTTGNPIICLGHHAVENGTSVKTLTDNHVEVVSAKELVETNHTDELCPSPLKLVDGQDCDLINGALGSPGCDRLQDTTWDVFIERPTAVDTCYPFDVPDYQSLRSILASSGSLEFIAEQFTWNGVKVDGSSSACLRGGRNSFFSRLNWLTKATNGNYGPINVTKENTGSYVRLYLWGVHHPSSDNEQTDLYKVATGRVTVSTRSDQISIVPNIGSRPRVRNQSGRISIYWTLVNPGDSIIFNSIGNLIAPRGHYKISKSTKSTVLKSDKRIGSCTSPCLTDKGSIQSDKPFQNVSRIAIGNCPKYVKQGSLMLATGMRNIPGKQAKGLFGAIAGFIENGWQGLIDGWYGFRHQNAEGTGTAADLKSTQAAIDQINGKLNRLIEKTNEKYHQIEKEFEQVEGRIQDLEKYVEDTKIDLWSYNAELLVALENQHTIDVTDSEMNKLFERVRRQLRENAEDQGNGCFEIFHQCDNNCIESIRNGTYDHNIYRDEAINNRIKINPVTLTMGYKDIILWISFSMSCFVFVALILGFVLWACQNGNIRCQICI\n"
     ]
    }
   ],
   "source": [
    "! cat input_files/HA_H3_H4_H14.fa"
   ]
  },
  {
   "cell_type": "markdown",
   "metadata": {},
   "source": [
    "We would like to align these HA proteins to each and to the protein chains for a trimer of the H3 HA in [PDB 4o5n](https://www.rcsb.org/structure/4o5n).\n",
    "This PDB only shows a monomer, so a full trimer was generated using [makemultimer.py](http://watcut.uwaterloo.ca/tools/makemultimer/), and is in [input_files/4o5n_trimer.pdb](input_files/4o5n_trimer.pdb).\n",
    "Chains `A`, `C`, and `E`) correspond to HA1, and chains `B`, `D`, and `F` correspond to HA2.\n",
    "Here are the first few lines of the PDB file:"
   ]
  },
  {
   "cell_type": "code",
   "execution_count": 2,
   "metadata": {},
   "outputs": [
    {
     "name": "stdout",
     "output_type": "stream",
     "text": [
      "REMARK  Multimer expanded from BIOMT matrix in pdb file 4O5N\n",
      "REMARK  by MakeMultimer.py (watcut.uwaterloo.ca/makemultimer)\n",
      "REMARK  \n",
      "REMARK  -------------------------------------------------------------\n",
      "REMARK  Chain  original  1st resid.  last resid.  1st atom  last atom\n",
      "REMARK  -------------------------------------------------------------\n",
      "REMARK      A         A           9          325         1       2498\n",
      "REMARK      C         A           9          325         1       2498\n",
      "REMARK      E         A           9          325         1       2498\n",
      "REMARK      B         B           1          173         1       1431\n",
      "REMARK      D         B           1          173         1       1431\n",
      "REMARK      F         B           1          173         1       1431\n",
      "REMARK  -------------------------------------------------------------\n"
     ]
    }
   ],
   "source": [
    "! head -n 13 input_files/4o5n_trimer.pdb"
   ]
  },
  {
   "cell_type": "markdown",
   "metadata": {},
   "source": [
    "For our reference sequence in the alignment, we choose the H3 HA from *A/England/321/1977*.\n",
    "\n",
    "Run `pdb_prot_align`, sending the output files to the subdirectory `./output_files/` (which needs to have already been created).\n",
    "We add the `--reorder` command to our call of `mafft`:"
   ]
  },
  {
   "cell_type": "code",
   "execution_count": 3,
   "metadata": {},
   "outputs": [
    {
     "name": "stdout",
     "output_type": "stream",
     "text": [
      "\n",
      "Running `pdb_prot_align` 0.5.0\n",
      "\n",
      "Parsing PDB input_files/4o5n_trimer.pdb chains A B C D E F\n",
      "For chain A, parsed 317 residues, ranging from 9 to 325 in PDB numbering.\n",
      "For chain B, parsed 173 residues, ranging from 1 to 173 in PDB numbering.\n",
      "For chain C, parsed 317 residues, ranging from 9 to 325 in PDB numbering.\n",
      "For chain D, parsed 173 residues, ranging from 1 to 173 in PDB numbering.\n",
      "For chain E, parsed 317 residues, ranging from 9 to 325 in PDB numbering.\n",
      "For chain F, parsed 173 residues, ranging from 1 to 173 in PDB numbering.\n",
      "\n",
      "Read 3 sequences from input_files/HA_H3_H4_H14.fa\n",
      "Reference protein is of length 566 and has the following header:\n",
      "cds:CAA29337 A/England/321/1977 1977// HA\n",
      "\n",
      "Using `mafft` to align sequences to output_files/HA_H3_H4_H14_unstripped_alignment.fa\n",
      "Stripping gaps relative to reference cds:CAA29337 A/England/321/1977 1977// HA\n",
      "Dropping PDB chains from alignment\n",
      "Writing gap-stripped alignment to output_files/HA_H3_H4_H14_alignment.fa\n",
      "\n",
      "Writing CSV with detailed information to output_files/HA_H3_H4_H14_sites.csv\n",
      "\n",
      "Program complete.\n",
      "\n"
     ]
    }
   ],
   "source": [
    "! pdb_prot_align --protsfile input_files/HA_H3_H4_H14.fa \\\n",
    "                 --refprot_regex A/England/321/1977 \\\n",
    "                 --pdbfile input_files/4o5n_trimer.pdb \\\n",
    "                 --chain_ids A B C D E F \\\n",
    "                 --outprefix output_files/HA_H3_H4_H14 \\\n",
    "                 --mafft \"mafft --reorder\""
   ]
  },
  {
   "cell_type": "markdown",
   "metadata": {},
   "source": [
    "The alignment output file ([output_files/HA_H3_H4_H14_alignment.fa](output_files/HA_H3_H4_H14_alignment.fa)) has the HA alignment with all gaps stripped relative to the reference sequence:"
   ]
  },
  {
   "cell_type": "code",
   "execution_count": 4,
   "metadata": {},
   "outputs": [
    {
     "name": "stdout",
     "output_type": "stream",
     "text": [
      ">cds:CAA29337 A/England/321/1977 1977// HA\n",
      "MKTIIALSYIFCQVLAQNLPGNDNSTATLCLAHHAVPNGTLVKTITNDQIEVTNATELVQSSSTGRICDSPHRILDGKNCTLIDALLGDPHCDGFQNEKWDLFVERSKAFSNCYPYDVPDYASLRSLVASSGTLEFINEGFNWTGVTQNGGSYACKRGPDNSFFSRLNWLYKSESTYPVLNVTMPNNDNFDKLYIWGVHHPSTDKEQTKLYVQASGRVTVSTKRSQQTIIPNVGSRPWVRGLSSRISIYWTIVKPGDILLINSNGNLIAPRGYFKIRTGKSSIMRSDAPIGTCSSECITPNGSIPNDKPFQNVNKITYGACPKYVKQNTLKLATGMRNVPEKQTRGIFGAIAGFIENGWEGMIDGWYGFRHQNSEGTGQAADLKSTQAAIDQINGKLNRVIEKTNEKFHQIEKEFSEVEGRIQDLEKYVEDTKIDLWSYNAELLVALENQHTIDLTDSEMNKLFEKTRRQLRENAEDMGNGCFKIYHKCDNACIGSIRNGTYDHDVYRDEALNNRFQIKGVELKSGYKDWILWISFAISCFLLCVVLLGFIMWACQKGNIRCNICI\n",
      ">cds:BAA14332 A/duck/Czechoslovakia/1956 1956// HA\n",
      "MLSIVILFLLIAENSSQNYTGN----PVICMGHHAVANGTMVKTLADDQVEVVTAQELVESQNLPELCPSPLRLVDGQTCDIINGALGSPGCDHLNGAEWDVFIERPNAVDTCYPFDVPEYQSLRSILANNGKFEFIAEEFQWNTVKQNGKSGACKRANVDDFFNRLNWLVKSDNAYPLQNLTKINNGDYARLYIWGVHHPSTSTEQTNLYKNNPGRVTVSTKTSQTSVVPDIGSRPLVRGQSGRVSFYWTIVEPGDLIVFNTIGNLIAPRGHYKLNNKKSTILNTAIPIGSCVSKCHTDKGSLSTTKPFQNISRIAVGDCPRYVKQGSLKLATGMRNIPEKASRGLFGAIAGFIENGWQGLIDGWYGFRHQNAEGTGTAADLKSTQAAIDQINGKLNRLIEKTNDKYHQIEKEFEQVEGRIQDLENYVEDTKIDLWSYNAELLVALENQHTIDVTDSEMNKLFERVRRQLRENAEDKGNGCFEIFHKCDNNCIESIRNGTYDHDIYRDEAINNRFQIQGVKLTQGYKDIILWISFSISCFLLVALLLAFILWACQNGNIRCQICI\n",
      ">cds:ABI84453 A/mallard/Astrakhan/263/1982 1982// HA\n",
      "MIALILVALALSHTATNGTTGN----PIICLGHHAVENGTSVKTLTDNHVEVVSAKELVETNHTDELCPSPLKLVDGQDCDLINGALGSPGCDRLQDTTWDVFIERPTAVDTCYPFDVPDYQSLRSILASSGSLEFIAEQFTWNGVKVDGSSSACLRGGRNSFFSRLNWLTKATGNYGPINVTKENTGSYVRLYLWGVHHPSSDNEQTDLYKVATGRVTVSTRSDQISIVPNIGSRPRVRNQSGRISIYWTLVNPGDSIIFNSIGNLIAPRGHYKISKTKSTVLKSDKRIGSCTSPCLTDKGSIQSDKPFQNVSRIAIGNCPKYVKQGSLMLATGMRNIPGKQAKGLFGAIAGFIENGWQGLIDGWYGFRHQNAEGTGTAADLKSTQAAIDQINGKLNRLIEKTNEKYHQIEKEFEQVEGRIQDLEKYVEDTKIDLWSYNAELLVALENQHTIDVTDSEMNKLFERVRRQLRENAEDQGNGCFEIFHQCDNNCIESIRNGTYDHNIYRDEAINNRIKINPVTLTMGYKDIILWISFSMSCFVFVALILGFVLWACQNGNIRCQICI"
     ]
    }
   ],
   "source": [
    "! cat output_files/HA_H3_H4_H14_alignment.fa"
   ]
  },
  {
   "cell_type": "markdown",
   "metadata": {},
   "source": [
    "However, the really \"precious\" information is in the output CSV file, [output_files/HA_H3_H4_H14_sites.csv](output_files/HA_H3_H4_H14_sites.csv).\n",
    "Here are some lines of that file:"
   ]
  },
  {
   "cell_type": "code",
   "execution_count": 5,
   "metadata": {},
   "outputs": [
    {
     "name": "stdout",
     "output_type": "stream",
     "text": [
      "99,K,E,83,K,1.58496,3.00000,F,0.00000\n",
      "99,K,E,83,K,1.58496,3.00000,G,0.00000\n",
      "99,K,E,83,K,1.58496,3.00000,H,0.00000\n",
      "99,K,E,83,K,1.58496,3.00000,I,0.00000\n",
      "99,K,E,83,K,1.58496,3.00000,K,0.33333\n",
      "99,K,E,83,K,1.58496,3.00000,L,0.00000\n",
      "99,K,E,83,K,1.58496,3.00000,M,0.00000\n",
      "99,K,E,83,K,1.58496,3.00000,N,0.00000\n",
      "99,K,E,83,K,1.58496,3.00000,P,0.00000\n",
      "99,K,E,83,K,1.58496,3.00000,Q,0.00000\n",
      "99,K,E,83,K,1.58496,3.00000,R,0.00000\n",
      "99,K,E,83,K,1.58496,3.00000,S,0.00000\n",
      "99,K,E,83,K,1.58496,3.00000,T,0.33333\n",
      "99,K,E,83,K,1.58496,3.00000,V,0.00000\n",
      "99,K,E,83,K,1.58496,3.00000,W,0.00000\n",
      "99,K,E,83,K,1.58496,3.00000,Y,0.00000\n",
      "100,W,A,84,W,0.00000,1.00000,A,0.00000\n",
      "100,W,A,84,W,0.00000,1.00000,C,0.00000\n",
      "100,W,A,84,W,0.00000,1.00000,D,0.00000\n",
      "100,W,A,84,W,0.00000,1.00000,E,0.00000\n",
      "100,W,A,84,W,0.00000,1.00000,F,0.00000\n",
      "100,W,A,84,W,0.00000,1.00000,G,0.00000\n",
      "100,W,A,84,W,0.00000,1.00000,H,0.00000\n",
      "100,W,A,84,W,0.00000,1.00000,I,0.00000\n",
      "100,W,A,84,W,0.00000,1.00000,K,0.00000\n",
      "100,W,A,84,W,0.00000,1.00000,L,0.00000\n",
      "100,W,A,84,W,0.00000,1.00000,M,0.00000\n",
      "100,W,A,84,W,0.00000,1.00000,N,0.00000\n",
      "100,W,A,84,W,0.00000,1.00000,P,0.00000\n",
      "100,W,A,84,W,0.00000,1.00000,Q,0.00000\n",
      "100,W,A,84,W,0.00000,1.00000,R,0.00000\n",
      "100,W,A,84,W,0.00000,1.00000,S,0.00000\n",
      "100,W,A,84,W,0.00000,1.00000,T,0.00000\n",
      "100,W,A,84,W,0.00000,1.00000,V,0.00000\n",
      "100,W,A,84,W,0.00000,1.00000,W,1.00000\n"
     ]
    }
   ],
   "source": [
    "! head -n 5000 output_files/HA_H3_H4_H14_sites.csv | tail -n 35"
   ]
  }
 ],
 "metadata": {
  "kernelspec": {
   "display_name": "Python 3",
   "language": "python",
   "name": "python3"
  },
  "language_info": {
   "codemirror_mode": {
    "name": "ipython",
    "version": 3
   },
   "file_extension": ".py",
   "mimetype": "text/x-python",
   "name": "python",
   "nbconvert_exporter": "python",
   "pygments_lexer": "ipython3",
   "version": "3.6.7"
  },
  "toc": {
   "nav_menu": {},
   "number_sections": false,
   "sideBar": true,
   "skip_h1_title": false,
   "toc_cell": false,
   "toc_position": {},
   "toc_section_display": "block",
   "toc_window_display": true
  }
 },
 "nbformat": 4,
 "nbformat_minor": 4
}
