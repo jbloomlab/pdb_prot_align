{
 "cells": [
  {
   "cell_type": "markdown",
   "metadata": {},
   "source": [
    "# Alignment of beta-coronavirus Spike proteins to a SARS-CoV structure\n",
    "\n",
    "In this example, we align a set of beta-coronavirus Spike proteins to each other and to the protein structure of a SARS-CoV Spike.\n",
    "\n",
    "The set of coronavirus Spike proteins are those that had their RBD domains studied by [Lekto and Munster (2019)](https://www.biorxiv.org/content/10.1101/2020.01.22.915660v1), and are from the Genbank accessions in Supplementary figure 1 of their pre-print.\n",
    "The **un-aligned** set of Spike protein sequences is in [input_files/beta_coronavirus_Spikes.fa](input_files/beta_coronavirus_Spikes.fa).\n",
    "Here are the first few lines:"
   ]
  },
  {
   "cell_type": "code",
   "execution_count": 1,
   "metadata": {},
   "outputs": [
    {
     "name": "stdout",
     "output_type": "stream",
     "text": [
      ">AY278741|SARS Urbani|human\n",
      "MFIFLLFLTLTSGSDLDRCTTFDDVQAPNYTQHTSSMRGVYYPDEIFRSDTLYLTQDLFLPFYSNVTGFHTINHTFGNPVIPFKDGIYFAATEKSNVVRGWVFGSTMNNKSQSVIIINNSTNVVIRACNFELCDNPFFAVSKPMGTQTHTMIFDNAFNCTFEYISDAFSLDVSEKSGNFKHLREFVFKNKDGFLYVYKGYQPIDVVRDLPSGFNTLKPIFKLPLGINITNFRAILTAFSPAQDIWGTSAAAYFVGYLKPTTFMLKYDENGTITDAVDCSQNPLAELKCSVKSFEIDKGIYQTSNFRVVPSGDVVRFPNITNLCPFGEVFNATKFPSVYAWERKKISNCVADYSVLYNSTFFSTFKCYGVSATKLNDLCFSNVYADSFVVKGDDVRQIAPGQTGVIADYNYKLPDDFMGCVLAWNTRNIDATSTGNYNYKYRYLRHGKLRPFERDISNVPFSPDGKPCTPPALNCYWPLNDYGFYTTTGIGYQPYRVVVLSFELLNAPATVCGPKLSTDLIKNQCVNFNFNGLTGTGVLTPSSKRFQPFQQFGRDVSDFTDSVRDPKTSEILDISPCSFGGVSVITPGTNASSEVAVLYQDVNCTDVSTAIHADQLTPAWRIYSTGNNVFQTQAGCLIGAEHVDTSYECDIPIGAGICASYHTVSLLRSTSQKSIVAYTMSLGADSSIAYSNNTIAIPTNFSISITTEVMPVSMAKTSVDCNMYICGDSTECANLLLQYGSFCTQLNRALSGIAAEQDRNTREVFAQVKQMYKTPTLKYFGGFNFSQILPDPLKPTKRSFIEDLLFNKVTLADAGFMKQYGECLGDINARDLICAQKFNGLTVLPPLLTDDMIAAYTAALVSGTATAGWTFGAGAALQIPFAMQMAYRFNGIGVTQNVLYENQKQIANQFNKAISQIQESLTTTSTALGKLQDVVNQNAQALNTLVKQLSSNFGAISSVLNDILSRLDKVEAEVQIDRLITGRLQSLQTYVTQQLIRAAEIRASANLAATKMSECVLGQSKRVDFCGKGYHLMSFPQAAPHGVVFLHVTYVPSQERNFTTAPAICHEGKAYFPREGVFVFNGTSWFITQRNFFSPQIITTDNTFVSGNCDVVIGIINNTVYDPLQPELDSFKEELDKYFKNHTSPDVDLGDISGINASVVNIQKEIDRLNEVAKNLNESLIDLQELGKYEQYIKWPWYVWLGFIAGLIAIVMVTILLCCMTSCCSCLKGACSCGSCCKFDEDDSEPVLKGVKLHYT\n",
      ">KF367457|WIV1|bat\n",
      "MKLLVLVFATLVSSYTIEKCLDFDDRTPPANTQFLSSHRGVYYPDDIFRSNVLHLVQDHFLPFDSNVTRFITFGLNFDNPIIPFKDGIYFAATEKSNVIRGWVFGSTMNNKSQSVIIMNNSTNLVIRACNFELCDNPFFVVLKSNNTQIPSYIFNNAFNCTFEYVSKDFNLDLGEKPGNFKDLREFVFRNKDGFLHVYSGYQPISAASGLPTGFNALKPIFKLPLGINITNFRTLLTAFPPRPDYWGTSAAAYFVGYLKPTTFMLKYDENGTITDAVDCSQNPLAELKCSVKSFEIDKGIYQTSNFRVAPSKEVVRFPNITNLCPFGEVFNATTFPSVYAWERKRISNCVADYSVLYNSTSFSTFKCYGVSATKLNDLCFSNVYADSFVVKGDDVRQIAPGQTGVIADYNYKLPDDFTGCVLAWNTRNIDATQTGNYNYKYRSLRHGKLRPFERDISNVPFSPDGKPCTPPAFNCYWPLNDYGFYITNGIGYQPYRVVVLSFELLNAPATVCGPKLSTDLIKNQCVNFNFNGLTGTGVLTPSSKRFQPFQQFGRDVSDFTDSVRDPKTSEILDISPCSFGGVSVITPGTNTSSEVAVLYQDVNCTDVPVAIHADQLTPSWRVHSTGNNVFQTQAGCLIGAEHVDTSYECDIPIGAGICASYHTVSSLRSTSQKSIVAYTMSLGADSSIAYSNNTIAIPTNFSISITTEVMPVSMAKTSVDCNMYICGDSTECANLLLQYGSFCTQLNRALSGIAVEQDRNTREVFAQVKQMYKTPTLKDFGGFNFSQILPDPLKPTKRSFIEDLLFNKVTLADAGFMKQYGECLGDINARDLICAQKFNGLTVLPPLLTDDMIAAYTAALVSGTATAGWTFGAGAALQIPFAMQMAYRFNGIGVTQNVLYENQKQIANQFNKAISQIQESLTTTSTALGKLQDVVNQNAQALNTLVKQLSSNFGAISSVLNDILSRLDKVEAEVQIDRLITGRLQSLQTYVTQQLIRAAEIRASANLAATKMSECVLGQSKRVDFCGKGYHLMSFPQAAPHGVVFLHVTYVPSQERNFTTAPAICHEGKAYFPREGVFVFNGTSWFITQRNFFSPQIITTDNTFVSGSCDVVIGIINNTVYDPLQPELDSFKEELDKYFKNHTSPDVDLGDISGINASVVNIQKEIDRLNEVAKNLNESLIDLQELGKYEQYIKWPWYVWLGFIAGLIAIVMVTILLCCMTSCCSCLKGACSCGSCCKFDEDDSEPVLKGVKLHYT\n"
     ]
    }
   ],
   "source": [
    "! head -n 4 input_files/beta_coronavirus_Spikes.fa"
   ]
  },
  {
   "cell_type": "markdown",
   "metadata": {},
   "source": [
    "We would like to align these Spike proteins to each and to the protein chains in a cryo-EM structure of the SARS-CoV Spike, [PDB 6crv](https://www.rcsb.org/structure/6CRV).\n",
    "That PDB structure is at [input_files/6crv.pdb](input_files/6crv.pdb), and has three chains (`A`, `B`, and `C`) each corresponding to monomers in the Spike trimer.\n",
    "Here are the first few lines of the PDB file:"
   ]
  },
  {
   "cell_type": "code",
   "execution_count": 2,
   "metadata": {},
   "outputs": [
    {
     "name": "stdout",
     "output_type": "stream",
     "text": [
      "HEADER    VIRAL PROTEIN                           19-MAR-18   6CRV              \n",
      "TITLE     SARS SPIKE GLYCOPROTEIN, STABILIZED VARIANT, C3 SYMMETRY              \n",
      "COMPND    MOL_ID: 1;                                                            \n",
      "COMPND   2 MOLECULE: SPIKE GLYCOPROTEIN,FIBRITIN;                               \n",
      "COMPND   3 CHAIN: A, B, C;                                                      \n",
      "COMPND   4 SYNONYM: S GLYCOPROTEIN,E2,PEPLOMER PROTEIN;                         \n",
      "COMPND   5 ENGINEERED: YES;                                                     \n",
      "COMPND   6 MUTATION: YES                                                        \n"
     ]
    }
   ],
   "source": [
    "! head -n 8 input_files/6crv.pdb"
   ]
  },
  {
   "cell_type": "markdown",
   "metadata": {},
   "source": [
    "Finally, we need to choose a \"reference\" sequence in the alignment.\n",
    "All gaps in the alignment are stripped relative to this reference, and in addition to the PDB numbering we will get sites in the reference in 1, 2, ... numbering.\n",
    "Since we are most interested in the 2019-nCoV from Wuhan, we will choose that as our reference sequence.\n",
    "It's sequence header in [input_files/beta_coronavirus_Spikes.fa](input_files/beta_coronavirus_Spikes.fa) contains the unique substring `Wuhan-CoV`, which we will use to identify it.\n",
    "\n",
    "Now we run `pdb_prot_align`, sending the output files to the subdirectory `./output_files/` (which needs to have already been created):"
   ]
  },
  {
   "cell_type": "code",
   "execution_count": 3,
   "metadata": {},
   "outputs": [
    {
     "name": "stdout",
     "output_type": "stream",
     "text": [
      "\n",
      "Running `pdb_prot_align` 0.5.0\n",
      "\n",
      "Parsing PDB input_files/6crv.pdb chains A B C\n",
      "For chain A, parsed 881 residues, ranging from 18 to 1120 in PDB numbering.\n",
      "For chain B, parsed 881 residues, ranging from 18 to 1120 in PDB numbering.\n",
      "For chain C, parsed 881 residues, ranging from 18 to 1120 in PDB numbering.\n",
      "\n",
      "Read 30 sequences from input_files/beta_coronavirus_Spikes.fa\n",
      "Reference protein is of length 1273 and has the following header:\n",
      "MN908947|Wuhan-CoV|human\n",
      "\n",
      "Using `mafft` to align sequences to output_files/beta_coronavirus_Spike_unstripped_alignment.fa\n",
      "Stripping gaps relative to reference MN908947|Wuhan-CoV|human\n",
      "Dropping PDB chains from alignment\n",
      "Writing gap-stripped alignment to output_files/beta_coronavirus_Spike_alignment.fa\n",
      "\n",
      "Writing CSV with detailed information to output_files/beta_coronavirus_Spike_sites.csv\n",
      "\n",
      "Program complete.\n",
      "\n"
     ]
    }
   ],
   "source": [
    "! pdb_prot_align --protsfile input_files/beta_coronavirus_Spikes.fa \\\n",
    "                 --refprot_regex Wuhan-CoV \\\n",
    "                 --pdbfile input_files/6crv.pdb \\\n",
    "                 --chain_ids A B C \\\n",
    "                 --outprefix output_files/beta_coronavirus_Spike"
   ]
  },
  {
   "cell_type": "markdown",
   "metadata": {},
   "source": [
    "The alignment output file ([output_files/beta_coronavirus_Spike_alignment.fa](output_files/beta_coronavirus_Spike_alignment.fa)) has the Spike alignment with all gaps stripped relative to the reference sequence.\n",
    "It does **not** include the PDB protein (you can change that with the `--drop_pdb` option; also there is a file with the PDB and no gaps stripped at [output_files/beta_coronavirus_Spike_unstripped_alignment.fa](output_files/beta_coronavirus_Spike_unstripped_alignment.fa)).\n",
    "Here are the first few lines:"
   ]
  },
  {
   "cell_type": "code",
   "execution_count": 4,
   "metadata": {},
   "outputs": [
    {
     "name": "stdout",
     "output_type": "stream",
     "text": [
      ">AY278741|SARS Urbani|human\n",
      "MFIFLLFLTL--DRCTTFDDVQAPNYTQHTSSMRGVYYPDEIFRSDTLYLTQDLFLPFYSNVTGFHTINHT-------FGNPVIPFKDGIYFAATEKSNVVRGWVFGSTMNNKSQSVIIINNSTNVVIRACNFELCDNPFFAVSKPMGTQTHT----MIFDNAFNCTFEYISDAFSLDVSEKSGNFKHLREFVFKNKDGFLYVYKGYQPIDVVRDLPSGFNTLKPIFKLPLGINITNFRAILTAFS------PAQDIWGTSAAAYFVGYLKPTTFMLKYDENGTITDAVDCSQNPLAELKCSVKSFEIDKGIYQTSNFRVVPSGDVVRFPNITNLCPFGEVFNATKFPSVYAWERKKISNCVADYSVLYNSTFFSTFKCYGVSATKLNDLCFSNVYADSFVVKGDDVRQIAPGQTGVIADYNYKLPDDFMGCVLAWNTRNIDATSTGNYNYKYRYLRHGKLRPFERDISNVPFSPDGKPCTPP-ALNCYWPLNDYGFYTTTGIGYQPYRVVVLSFELLNAPATVCGPKLSTDLIKNQCVNFNFNGLTGTGVLTPSSKRFQPFQQFGRDVSDFTDSVRDPKTSEILDISPCSFGGVSVITPGTNASSEVAVLYQDVNCTDVSTAIHADQLTPAWRIYSTGNNVFQTQAGCLIGAEHVDTSYECDIPIGAGICASYHTVSL----LRSTSQKSIVAYTMSLGADSSIAYSNNTIAIPTNFSISITTEVMPVSMAKTSVDCNMYICGDSTECANLLLQYGSFCTQLNRALSGIAAEQDRNTREVFAQVKQMYKTPTLKYFGGFNFSQILPDPLKPTKRSFIEDLLFNKVTLADAGFMKQYGECLGDINARDLICAQKFNGLTVLPPLLTDDMIAAYTAALVSGTATAGWTFGAGAALQIPFAMQMAYRFNGIGVTQNVLYENQKQIANQFNKAISQIQESLTTTSTALGKLQDVVNQNAQALNTLVKQLSSNFGAISSVLNDILSRLDKVEAEVQIDRLITGRLQSLQTYVTQQLIRAAEIRASANLAATKMSECVLGQSKRVDFCGKGYHLMSFPQAAPHGVVFLHVTYVPSQERNFTTAPAICHEGKAYFPREGVFVFNGTSWFITQRNFFSPQIITTDNTFVSGNCDVVIGIINNTVYDPLQPELDSFKEELDKYFKNHTSPDVDLGDISGINASVVNIQKEIDRLNEVAKNLNESLIDLQELGKYEQYIKWPWYVWLGFIAGLIAIVMVTILLCCMTSCCSCLKGACSCGSCCKFDEDDSEPVLKGVKLHYT\n",
      ">KF367457|WIV1|bat\n",
      "KLLVLVFATL--EKCLDFDDRTPPANTQFLSSHRGVYYPDDIFRSNVLHLVQDHFLPFDSNVTRFITFGLN-------FDNPIIPFKDGIYFAATEKSNVIRGWVFGSTMNNKSQSVIIMNNSTNLVIRACNFELCDNPFFVVLKSNNTQIPS----YIFNNAFNCTFEYVSKDFNLDLGEKPGNFKDLREFVFRNKDGFLHVYSGYQPISAASGLPTGFNALKPIFKLPLGINITNFRTLLTAFP------PRPDYWGTSAAAYFVGYLKPTTFMLKYDENGTITDAVDCSQNPLAELKCSVKSFEIDKGIYQTSNFRVAPSKEVVRFPNITNLCPFGEVFNATTFPSVYAWERKRISNCVADYSVLYNSTSFSTFKCYGVSATKLNDLCFSNVYADSFVVKGDDVRQIAPGQTGVIADYNYKLPDDFTGCVLAWNTRNIDATQTGNYNYKYRSLRHGKLRPFERDISNVPFSPDGKPCTPP-AFNCYWPLNDYGFYITNGIGYQPYRVVVLSFELLNAPATVCGPKLSTDLIKNQCVNFNFNGLTGTGVLTPSSKRFQPFQQFGRDVSDFTDSVRDPKTSEILDISPCSFGGVSVITPGTNTSSEVAVLYQDVNCTDVPVAIHADQLTPSWRVHSTGNNVFQTQAGCLIGAEHVDTSYECDIPIGAGICASYHTVSS----LRSTSQKSIVAYTMSLGADSSIAYSNNTIAIPTNFSISITTEVMPVSMAKTSVDCNMYICGDSTECANLLLQYGSFCTQLNRALSGIAVEQDRNTREVFAQVKQMYKTPTLKDFGGFNFSQILPDPLKPTKRSFIEDLLFNKVTLADAGFMKQYGECLGDINARDLICAQKFNGLTVLPPLLTDDMIAAYTAALVSGTATAGWTFGAGAALQIPFAMQMAYRFNGIGVTQNVLYENQKQIANQFNKAISQIQESLTTTSTALGKLQDVVNQNAQALNTLVKQLSSNFGAISSVLNDILSRLDKVEAEVQIDRLITGRLQSLQTYVTQQLIRAAEIRASANLAATKMSECVLGQSKRVDFCGKGYHLMSFPQAAPHGVVFLHVTYVPSQERNFTTAPAICHEGKAYFPREGVFVFNGTSWFITQRNFFSPQIITTDNTFVSGSCDVVIGIINNTVYDPLQPELDSFKEELDKYFKNHTSPDVDLGDISGINASVVNIQKEIDRLNEVAKNLNESLIDLQELGKYEQYIKWPWYVWLGFIAGLIAIVMVTILLCCMTSCCSCLKGACSCGSCCKFDEDDSEPVLKGVKLHYT\n"
     ]
    }
   ],
   "source": [
    "! head -n 4 output_files/beta_coronavirus_Spike_alignment.fa"
   ]
  },
  {
   "cell_type": "markdown",
   "metadata": {},
   "source": [
    "However, the really \"precious\" information is in the output CSV file, [output_files/beta_coronavirus_Spike_sites.csv](output_files/beta_coronavirus_Spike_sites.csv).\n",
    "Here are the first few lines of that file:"
   ]
  },
  {
   "cell_type": "code",
   "execution_count": 5,
   "metadata": {},
   "outputs": [
    {
     "name": "stdout",
     "output_type": "stream",
     "text": [
      "isite,wildtype,pdb_chain,pdb_site,pdb_wildtype,entropy,n_effective,amino_acid,frequency\n",
      "1,M,,,,1.90540,3.74613,A,0.00000\n",
      "1,M,,,,1.90540,3.74613,C,0.00000\n",
      "1,M,,,,1.90540,3.74613,D,0.00000\n",
      "1,M,,,,1.90540,3.74613,E,0.00000\n",
      "1,M,,,,1.90540,3.74613,F,0.03846\n",
      "1,M,,,,1.90540,3.74613,G,0.00000\n",
      "1,M,,,,1.90540,3.74613,H,0.00000\n",
      "1,M,,,,1.90540,3.74613,I,0.46154\n",
      "1,M,,,,1.90540,3.74613,K,0.15385\n",
      "1,M,,,,1.90540,3.74613,L,0.00000\n",
      "1,M,,,,1.90540,3.74613,M,0.26923\n",
      "1,M,,,,1.90540,3.74613,N,0.00000\n",
      "1,M,,,,1.90540,3.74613,P,0.00000\n",
      "1,M,,,,1.90540,3.74613,Q,0.00000\n"
     ]
    }
   ],
   "source": [
    "! head -n 15 output_files/beta_coronavirus_Spike_sites.csv"
   ]
  },
  {
   "cell_type": "markdown",
   "metadata": {},
   "source": [
    "This CSV file has the following columns:\n",
    " - `isite`: 1, 2, ... numbering of our reference sequence (in this case, the Spike fof the 2019-nCoV from Wuhan)\n",
    " - `wildtype`: wildtype residue in the reference sequence\n",
    " - `pdb_chain`: the PDB chain(s) to which the residue aligns, if any (note PDB chains are in tidy format).\n",
    " - `pdb_site`: the PDB site to which the residue aligns in PDB numbering, if any\n",
    " - `pdb_wildtype`: the wildtype residue in the PDB, if any\n",
    " - `entropy`: entropy at site in alignment, in bits.\n",
    " - `n_effective`: number of effective amino acids at site\n",
    " - `amino_acid`: amino-acid identity, in tidy format\n",
    " - `frequency`: frequency of amino-acid in alignment.\n",
    "\n",
    "The entropy / effective amino acids includes all sequences in the alignment except the PDB chains (see the `--drop_pdb` option).\n",
    "Gaps are not included in these calculations by default (see the `--ignore_gaps` option).\n",
    "\n",
    "Here are some lines more in the middle of the file, where there is PDB information:"
   ]
  },
  {
   "cell_type": "code",
   "execution_count": 6,
   "metadata": {},
   "outputs": [
    {
     "name": "stdout",
     "output_type": "stream",
     "text": [
      "42,V,B,46,I,0.21084,1.15736,R,0.00000\n",
      "42,V,B,46,I,0.21084,1.15736,S,0.00000\n",
      "42,V,B,46,I,0.21084,1.15736,T,0.00000\n",
      "42,V,B,46,I,0.21084,1.15736,V,0.03333\n",
      "42,V,B,46,I,0.21084,1.15736,W,0.00000\n",
      "42,V,B,46,I,0.21084,1.15736,Y,0.00000\n",
      "42,V,C,46,I,0.21084,1.15736,A,0.00000\n",
      "42,V,C,46,I,0.21084,1.15736,C,0.00000\n",
      "42,V,C,46,I,0.21084,1.15736,D,0.00000\n",
      "42,V,C,46,I,0.21084,1.15736,E,0.00000\n",
      "42,V,C,46,I,0.21084,1.15736,F,0.00000\n",
      "42,V,C,46,I,0.21084,1.15736,G,0.00000\n",
      "42,V,C,46,I,0.21084,1.15736,H,0.00000\n",
      "42,V,C,46,I,0.21084,1.15736,I,0.96667\n",
      "42,V,C,46,I,0.21084,1.15736,K,0.00000\n",
      "42,V,C,46,I,0.21084,1.15736,L,0.00000\n",
      "42,V,C,46,I,0.21084,1.15736,M,0.00000\n",
      "42,V,C,46,I,0.21084,1.15736,N,0.00000\n",
      "42,V,C,46,I,0.21084,1.15736,P,0.00000\n",
      "42,V,C,46,I,0.21084,1.15736,Q,0.00000\n",
      "42,V,C,46,I,0.21084,1.15736,R,0.00000\n",
      "42,V,C,46,I,0.21084,1.15736,S,0.00000\n",
      "42,V,C,46,I,0.21084,1.15736,T,0.00000\n",
      "42,V,C,46,I,0.21084,1.15736,V,0.03333\n",
      "42,V,C,46,I,0.21084,1.15736,W,0.00000\n",
      "42,V,C,46,I,0.21084,1.15736,Y,0.00000\n",
      "43,F,A,47,F,0.46900,1.38415,A,0.00000\n",
      "43,F,A,47,F,0.46900,1.38415,C,0.00000\n",
      "43,F,A,47,F,0.46900,1.38415,D,0.00000\n",
      "43,F,A,47,F,0.46900,1.38415,E,0.00000\n",
      "43,F,A,47,F,0.46900,1.38415,F,0.90000\n",
      "43,F,A,47,F,0.46900,1.38415,G,0.00000\n",
      "43,F,A,47,F,0.46900,1.38415,H,0.00000\n",
      "43,F,A,47,F,0.46900,1.38415,I,0.00000\n",
      "43,F,A,47,F,0.46900,1.38415,K,0.00000\n"
     ]
    }
   ],
   "source": [
    "! head -n 2010 output_files/beta_coronavirus_Spike_sites.csv | tail -n 35"
   ]
  },
  {
   "cell_type": "markdown",
   "metadata": {},
   "source": [
    "The information in this file is extremely useful if you want to plot evolutionary conservation or amino-acid identities onto the structure.\n",
    "But do that, you need to use a protein viewer such as [pymol](https://pymol.org/) or [nglview](http://nglviewer.org/nglview/latest/).\n",
    "Some of the [other examples](https://jbloomlab.github.io/pdb_prot_align/examples.html) show how to do that."
   ]
  },
  {
   "cell_type": "markdown",
   "metadata": {},
   "source": [
    "Note that you can also drop the reference protein from the alignment with the `--drop_refprot` option:"
   ]
  },
  {
   "cell_type": "code",
   "execution_count": 7,
   "metadata": {},
   "outputs": [
    {
     "name": "stdout",
     "output_type": "stream",
     "text": [
      "\n",
      "Running `pdb_prot_align` 0.5.0\n",
      "\n",
      "Parsing PDB input_files/6crv.pdb chains A B C\n",
      "For chain A, parsed 881 residues, ranging from 18 to 1120 in PDB numbering.\n",
      "For chain B, parsed 881 residues, ranging from 18 to 1120 in PDB numbering.\n",
      "For chain C, parsed 881 residues, ranging from 18 to 1120 in PDB numbering.\n",
      "\n",
      "Read 30 sequences from input_files/beta_coronavirus_Spikes.fa\n",
      "Reference protein is of length 1273 and has the following header:\n",
      "MN908947|Wuhan-CoV|human\n",
      "\n",
      "Using `mafft` to align sequences to output_files/beta_coronavirus_Spike_drop_refprot_unstripped_alignment.fa\n",
      "Stripping gaps relative to reference MN908947|Wuhan-CoV|human\n",
      "Dropping PDB chains from alignment\n",
      "Dropping reference protein from alignment\n",
      "Writing gap-stripped alignment to output_files/beta_coronavirus_Spike_drop_refprot_alignment.fa\n",
      "\n",
      "Writing CSV with detailed information to output_files/beta_coronavirus_Spike_drop_refprot_sites.csv\n",
      "\n",
      "Program complete.\n",
      "\n"
     ]
    }
   ],
   "source": [
    "! pdb_prot_align --protsfile input_files/beta_coronavirus_Spikes.fa \\\n",
    "                 --refprot_regex Wuhan-CoV \\\n",
    "                 --pdbfile input_files/6crv.pdb \\\n",
    "                 --chain_ids A B C \\\n",
    "                 --outprefix output_files/beta_coronavirus_Spike_drop_refprot \\\n",
    "                 --drop_refprot True \\\n",
    "                 --ignore_gaps False"
   ]
  },
  {
   "cell_type": "code",
   "execution_count": 8,
   "metadata": {},
   "outputs": [
    {
     "name": "stdout",
     "output_type": "stream",
     "text": [
      "29\n"
     ]
    }
   ],
   "source": [
    "! grep -c '>' output_files/beta_coronavirus_Spike_drop_refprot_alignment.fa"
   ]
  },
  {
   "cell_type": "code",
   "execution_count": 9,
   "metadata": {},
   "outputs": [
    {
     "name": "stdout",
     "output_type": "stream",
     "text": [
      "isite,wildtype,pdb_chain,pdb_site,pdb_wildtype,entropy,n_effective,amino_acid,frequency\n",
      "1,M,,,,2.21904,4.65583,-,0.13793\n",
      "1,M,,,,2.21904,4.65583,A,0.00000\n",
      "1,M,,,,2.21904,4.65583,C,0.00000\n",
      "1,M,,,,2.21904,4.65583,D,0.00000\n",
      "1,M,,,,2.21904,4.65583,E,0.00000\n",
      "1,M,,,,2.21904,4.65583,F,0.03448\n",
      "1,M,,,,2.21904,4.65583,G,0.00000\n",
      "1,M,,,,2.21904,4.65583,H,0.00000\n",
      "1,M,,,,2.21904,4.65583,I,0.41379\n",
      "1,M,,,,2.21904,4.65583,K,0.13793\n",
      "1,M,,,,2.21904,4.65583,L,0.00000\n",
      "1,M,,,,2.21904,4.65583,M,0.20690\n",
      "1,M,,,,2.21904,4.65583,N,0.00000\n",
      "1,M,,,,2.21904,4.65583,P,0.00000\n"
     ]
    }
   ],
   "source": [
    "! head -n 15 output_files/beta_coronavirus_Spike_drop_refprot_sites.csv"
   ]
  }
 ],
 "metadata": {
  "kernelspec": {
   "display_name": "Python 3",
   "language": "python",
   "name": "python3"
  },
  "language_info": {
   "codemirror_mode": {
    "name": "ipython",
    "version": 3
   },
   "file_extension": ".py",
   "mimetype": "text/x-python",
   "name": "python",
   "nbconvert_exporter": "python",
   "pygments_lexer": "ipython3",
   "version": "3.6.7"
  }
 },
 "nbformat": 4,
 "nbformat_minor": 4
}
